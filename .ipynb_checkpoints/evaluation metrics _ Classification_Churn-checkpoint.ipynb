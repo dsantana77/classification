{
 "cells": [
  {
   "cell_type": "markdown",
   "metadata": {},
   "source": [
    "# Evaluation metrics - Classification\n",
    "\n",
    "### Types:\n",
    "\n",
    "\n",
    " - accuracy, balanced accuracy\n",
    " - recall\n",
    " - precision\n",
    " - f1-Score\n",
    " - specificity\n",
    " - area under ROC"
   ]
  },
  {
   "cell_type": "code",
   "execution_count": 1,
   "metadata": {
    "id": "sahuAbjg0i9Y"
   },
   "outputs": [
    {
     "name": "stderr",
     "output_type": "stream",
     "text": [
      "C:\\Users\\dsant\\anaconda3\\lib\\site-packages\\pandas\\core\\computation\\expressions.py:21: UserWarning: Pandas requires version '2.8.4' or newer of 'numexpr' (version '2.8.3' currently installed).\n",
      "  from pandas.core.computation.check import NUMEXPR_INSTALLED\n",
      "C:\\Users\\dsant\\anaconda3\\lib\\site-packages\\pandas\\core\\arrays\\masked.py:60: UserWarning: Pandas requires version '1.3.6' or newer of 'bottleneck' (version '1.3.5' currently installed).\n",
      "  from pandas.core import (\n",
      "C:\\Users\\dsant\\AppData\\Local\\Temp\\ipykernel_30836\\1246032827.py:3: DeprecationWarning: \n",
      "Pyarrow will become a required dependency of pandas in the next major release of pandas (pandas 3.0),\n",
      "(to allow more performant data types, such as the Arrow string type, and better interoperability with other libraries)\n",
      "but was not found to be installed on your system.\n",
      "If this would cause problems for you,\n",
      "please provide us feedback at https://github.com/pandas-dev/pandas/issues/54466\n",
      "        \n",
      "  import pandas as pd\n"
     ]
    }
   ],
   "source": [
    "import os\n",
    "import numpy as np\n",
    "import pandas as pd\n",
    "from sklearn.model_selection import train_test_split"
   ]
  },
  {
   "cell_type": "markdown",
   "metadata": {
    "id": "J7AOFwwp7k0g"
   },
   "source": [
    "# Loading the Data"
   ]
  },
  {
   "cell_type": "code",
   "execution_count": 2,
   "metadata": {
    "colab": {
     "base_uri": "https://localhost:8080/",
     "height": 206
    },
    "id": "sj0BF9z47Zw9",
    "outputId": "c83ecfba-8182-4aff-e3f7-4f8986bcaee3"
   },
   "outputs": [
    {
     "data": {
      "text/html": [
       "<div>\n",
       "<style scoped>\n",
       "    .dataframe tbody tr th:only-of-type {\n",
       "        vertical-align: middle;\n",
       "    }\n",
       "\n",
       "    .dataframe tbody tr th {\n",
       "        vertical-align: top;\n",
       "    }\n",
       "\n",
       "    .dataframe thead th {\n",
       "        text-align: right;\n",
       "    }\n",
       "</style>\n",
       "<table border=\"1\" class=\"dataframe\">\n",
       "  <thead>\n",
       "    <tr style=\"text-align: right;\">\n",
       "      <th></th>\n",
       "      <th>customerID</th>\n",
       "      <th>tenure</th>\n",
       "      <th>PhoneService</th>\n",
       "      <th>Contract</th>\n",
       "      <th>PaperlessBilling</th>\n",
       "      <th>PaymentMethod</th>\n",
       "      <th>MonthlyCharges</th>\n",
       "      <th>TotalCharges</th>\n",
       "      <th>Churn</th>\n",
       "    </tr>\n",
       "  </thead>\n",
       "  <tbody>\n",
       "    <tr>\n",
       "      <th>0</th>\n",
       "      <td>7590-VHVEG</td>\n",
       "      <td>1</td>\n",
       "      <td>No</td>\n",
       "      <td>Month-to-month</td>\n",
       "      <td>Yes</td>\n",
       "      <td>Electronic check</td>\n",
       "      <td>29.85</td>\n",
       "      <td>29.85</td>\n",
       "      <td>No</td>\n",
       "    </tr>\n",
       "    <tr>\n",
       "      <th>1</th>\n",
       "      <td>5575-GNVDE</td>\n",
       "      <td>34</td>\n",
       "      <td>Yes</td>\n",
       "      <td>One year</td>\n",
       "      <td>No</td>\n",
       "      <td>Mailed check</td>\n",
       "      <td>56.95</td>\n",
       "      <td>1889.5</td>\n",
       "      <td>No</td>\n",
       "    </tr>\n",
       "    <tr>\n",
       "      <th>2</th>\n",
       "      <td>3668-QPYBK</td>\n",
       "      <td>2</td>\n",
       "      <td>Yes</td>\n",
       "      <td>Month-to-month</td>\n",
       "      <td>Yes</td>\n",
       "      <td>Mailed check</td>\n",
       "      <td>53.85</td>\n",
       "      <td>108.15</td>\n",
       "      <td>Yes</td>\n",
       "    </tr>\n",
       "    <tr>\n",
       "      <th>3</th>\n",
       "      <td>7795-CFOCW</td>\n",
       "      <td>45</td>\n",
       "      <td>No</td>\n",
       "      <td>One year</td>\n",
       "      <td>No</td>\n",
       "      <td>Bank transfer</td>\n",
       "      <td>42.30</td>\n",
       "      <td>1840.75</td>\n",
       "      <td>No</td>\n",
       "    </tr>\n",
       "    <tr>\n",
       "      <th>4</th>\n",
       "      <td>9237-HQITU</td>\n",
       "      <td>2</td>\n",
       "      <td>Yes</td>\n",
       "      <td>Month-to-month</td>\n",
       "      <td>Yes</td>\n",
       "      <td>Electronic check</td>\n",
       "      <td>70.70</td>\n",
       "      <td>151.65</td>\n",
       "      <td>Yes</td>\n",
       "    </tr>\n",
       "  </tbody>\n",
       "</table>\n",
       "</div>"
      ],
      "text/plain": [
       "   customerID  tenure PhoneService        Contract PaperlessBilling  \\\n",
       "0  7590-VHVEG       1           No  Month-to-month              Yes   \n",
       "1  5575-GNVDE      34          Yes        One year               No   \n",
       "2  3668-QPYBK       2          Yes  Month-to-month              Yes   \n",
       "3  7795-CFOCW      45           No        One year               No   \n",
       "4  9237-HQITU       2          Yes  Month-to-month              Yes   \n",
       "\n",
       "      PaymentMethod  MonthlyCharges TotalCharges Churn  \n",
       "0  Electronic check           29.85        29.85    No  \n",
       "1      Mailed check           56.95       1889.5    No  \n",
       "2      Mailed check           53.85       108.15   Yes  \n",
       "3     Bank transfer           42.30      1840.75    No  \n",
       "4  Electronic check           70.70       151.65   Yes  "
      ]
     },
     "execution_count": 2,
     "metadata": {},
     "output_type": "execute_result"
    }
   ],
   "source": [
    "df_abt = pd.read_excel('churn_data.xlsx')\n",
    "df_abt.head()"
   ]
  },
  {
   "cell_type": "code",
   "execution_count": 3,
   "metadata": {
    "colab": {
     "base_uri": "https://localhost:8080/"
    },
    "id": "I9EYFNfbWU5a",
    "outputId": "943225dd-c1eb-46be-a16e-31c14fedaabc"
   },
   "outputs": [
    {
     "data": {
      "text/plain": [
       "customerID           object\n",
       "tenure                int64\n",
       "PhoneService         object\n",
       "Contract             object\n",
       "PaperlessBilling     object\n",
       "PaymentMethod        object\n",
       "MonthlyCharges      float64\n",
       "TotalCharges         object\n",
       "Churn                object\n",
       "dtype: object"
      ]
     },
     "execution_count": 3,
     "metadata": {},
     "output_type": "execute_result"
    }
   ],
   "source": [
    "df_abt.dtypes"
   ]
  },
  {
   "cell_type": "code",
   "execution_count": 4,
   "metadata": {},
   "outputs": [
    {
     "name": "stdout",
     "output_type": "stream",
     "text": [
      "<class 'pandas.core.frame.DataFrame'>\n",
      "RangeIndex: 7042 entries, 0 to 7041\n",
      "Data columns (total 9 columns):\n",
      " #   Column            Non-Null Count  Dtype  \n",
      "---  ------            --------------  -----  \n",
      " 0   customerID        7042 non-null   object \n",
      " 1   tenure            7042 non-null   int64  \n",
      " 2   PhoneService      7042 non-null   object \n",
      " 3   Contract          7042 non-null   object \n",
      " 4   PaperlessBilling  7042 non-null   object \n",
      " 5   PaymentMethod     7042 non-null   object \n",
      " 6   MonthlyCharges    7042 non-null   float64\n",
      " 7   TotalCharges      7042 non-null   object \n",
      " 8   Churn             7042 non-null   object \n",
      "dtypes: float64(1), int64(1), object(7)\n",
      "memory usage: 495.3+ KB\n"
     ]
    }
   ],
   "source": [
    "df_abt.info()"
   ]
  },
  {
   "cell_type": "code",
   "execution_count": 5,
   "metadata": {
    "id": "YTyInANYWivm"
   },
   "outputs": [],
   "source": [
    "# object to float\n",
    "\n",
    "df_abt[\"TotalCharges\"] = pd.to_numeric(df_abt[\"TotalCharges\"],errors='coerce')"
   ]
  },
  {
   "cell_type": "code",
   "execution_count": 6,
   "metadata": {},
   "outputs": [
    {
     "data": {
      "text/plain": [
       "customerID           object\n",
       "tenure                int64\n",
       "PhoneService         object\n",
       "Contract             object\n",
       "PaperlessBilling     object\n",
       "PaymentMethod        object\n",
       "MonthlyCharges      float64\n",
       "TotalCharges        float64\n",
       "Churn                object\n",
       "dtype: object"
      ]
     },
     "execution_count": 6,
     "metadata": {},
     "output_type": "execute_result"
    }
   ],
   "source": [
    "df_abt.dtypes"
   ]
  },
  {
   "cell_type": "code",
   "execution_count": 7,
   "metadata": {
    "id": "0Zq8HVMxZIwZ"
   },
   "outputs": [],
   "source": [
    "#Drop nulls\n",
    "\n",
    "df_abt = df_abt.dropna()"
   ]
  },
  {
   "cell_type": "markdown",
   "metadata": {
    "id": "-AktC2H47hAt"
   },
   "source": [
    "# Train-Test Split"
   ]
  },
  {
   "cell_type": "code",
   "execution_count": 8,
   "metadata": {
    "id": "5WEW1QJp7jxE"
   },
   "outputs": [],
   "source": [
    "cat_vars = ['PhoneService',\"Contract\",\"PaperlessBilling\",\"PaymentMethod\"]\n",
    "num_vars = [\"tenure\",\"MonthlyCharges\",\"TotalCharges\"]\n",
    "modeling_vars = cat_vars + num_vars"
   ]
  },
  {
   "cell_type": "code",
   "execution_count": 9,
   "metadata": {
    "id": "XPKUxtcR7bK6"
   },
   "outputs": [],
   "source": [
    "X = df_abt.filter(modeling_vars).copy()\n",
    "y = df_abt['Churn'].copy()\n",
    "y = pd.DataFrame(y) # better to manipulate"
   ]
  },
  {
   "cell_type": "code",
   "execution_count": 10,
   "metadata": {
    "id": "kWUq4M8SYERW"
   },
   "outputs": [],
   "source": [
    "from sklearn.preprocessing import LabelEncoder\n",
    "le = LabelEncoder()\n",
    "\n",
    "le.fit(y.Churn) \n",
    "y.Churn = le.transform(y.Churn)"
   ]
  },
  {
   "cell_type": "code",
   "execution_count": 11,
   "metadata": {
    "id": "B1Zr8ytaZYHT"
   },
   "outputs": [],
   "source": [
    "X = pd.get_dummies(X)"
   ]
  },
  {
   "cell_type": "markdown",
   "metadata": {
    "id": "TlDX1kWo7pza"
   },
   "source": [
    "# Feature Engineering"
   ]
  },
  {
   "cell_type": "code",
   "execution_count": null,
   "metadata": {
    "colab": {
     "base_uri": "https://localhost:8080/",
     "height": 505
    },
    "id": "x0NgibcHY4KQ",
    "outputId": "c5955d80-790c-4a60-eed7-a31505e2c5a6"
   },
   "outputs": [],
   "source": [
    "X_train"
   ]
  },
  {
   "cell_type": "code",
   "execution_count": null,
   "metadata": {},
   "outputs": [],
   "source": [
    "\n",
    "\n",
    "# Mapeando valores booleanos para 0 e 1\n",
    "X_train['PhoneService_No'] = X_train['PhoneService_No'].astype(int)\n",
    "X_train['PhoneService_Yes'] = X_train['PhoneService_Yes'].astype(int)\n",
    "X_train['Contract_Month-to-month'] = X_train['Contract_Month-to-month'].astype(int)\n",
    "X_train['Contract_One year'] = X_train['Contract_One year'].astype(int)\n",
    "X_train['Contract_Two year'] = X_train['Contract_Two year'].astype(int)\n",
    "X_train['PaperlessBilling_No'] = X_train['PaperlessBilling_No'].astype(int)\n",
    "X_train['PaperlessBilling_Yes'] = X_train['PaperlessBilling_Yes'].astype(int)\n",
    "X_train['PaymentMethod_Bank transfer'] = X_train['PaymentMethod_Bank transfer'].astype(int)\n",
    "X_train['PaymentMethod_Credit card'] = X_train['PaymentMethod_Credit card'].astype(int)\n",
    "X_train['PaymentMethod_Electronic check'] = X_train['PaymentMethod_Electronic check'].astype(int)\n",
    "X_train['PaymentMethod_Mailed check'] = X_train['PaymentMethod_Mailed check'].astype(int)\n",
    "\n",
    "# Mostrando o DataFrame transformado\n",
    "X_train\n"
   ]
  },
  {
   "cell_type": "code",
   "execution_count": null,
   "metadata": {
    "id": "7GXrYClR7gSE"
   },
   "outputs": [],
   "source": [
    "X_train, X_test, y_train, y_test = train_test_split(X, y, test_size=0.2, stratify=y)"
   ]
  },
  {
   "cell_type": "code",
   "execution_count": null,
   "metadata": {
    "colab": {
     "base_uri": "https://localhost:8080/"
    },
    "id": "nA-o_E5l8_-X",
    "outputId": "6af284a4-5f78-449b-cf58-d8cb2ae2b8ae"
   },
   "outputs": [],
   "source": [
    "from sklearn.linear_model import LogisticRegression\n",
    "\n",
    "model = LogisticRegression()\n",
    "lr = model.fit(X_train, y_train)"
   ]
  },
  {
   "cell_type": "code",
   "execution_count": null,
   "metadata": {
    "colab": {
     "base_uri": "https://localhost:8080/"
    },
    "id": "kitGHGu8-KP6",
    "outputId": "f08588df-ad98-473b-84f3-26c467d5bcb3"
   },
   "outputs": [],
   "source": [
    "lr.predict(X_test)"
   ]
  },
  {
   "cell_type": "code",
   "execution_count": null,
   "metadata": {
    "colab": {
     "base_uri": "https://localhost:8080/",
     "height": 505
    },
    "id": "XOC77boN-MsC",
    "outputId": "02706d63-4080-4d1f-ef40-573d6f73a840"
   },
   "outputs": [],
   "source": [
    "X_test.assign(churn = y_test).assign(label = lr.predict(X_test))"
   ]
  },
  {
   "cell_type": "code",
   "execution_count": null,
   "metadata": {
    "colab": {
     "base_uri": "https://localhost:8080/",
     "height": 334
    },
    "id": "iXAsCQeFmGRZ",
    "outputId": "8fb0adac-77b3-49f6-934d-cff9a7d97986"
   },
   "outputs": [],
   "source": [
    "from sklearn.metrics import plot_confusion_matrix\n",
    "\n",
    "plot_confusion_matrix(lr, X_test, y_test, values_format='d');"
   ]
  },
  {
   "cell_type": "code",
   "execution_count": null,
   "metadata": {
    "colab": {
     "base_uri": "https://localhost:8080/"
    },
    "id": "lWCs291L-Od6",
    "outputId": "9eb6590f-a4ed-4b81-aa23-25cd2dd732d0"
   },
   "outputs": [],
   "source": [
    "from sklearn.metrics import accuracy_score, balanced_accuracy_score, precision_score, recall_score, f1_score, roc_auc_score\n",
    "\n",
    "print(f\"Acurácia (Treino): {accuracy_score(y_train, lr.predict(X_train))}\")\n",
    "print(f\"Acurácia (Teste): {accuracy_score(y_test, lr.predict(X_test))}\")\n",
    "print(\"====================================\")\n",
    "print(f\"Acurácia Balanceada (Treino): {balanced_accuracy_score(y_train, lr.predict(X_train))}\")\n",
    "print(f\"Acurácia Balanceada (Teste): {balanced_accuracy_score(y_test, lr.predict(X_test))}\")\n",
    "print(\"====================================\")\n",
    "print(f\"Precision (Treino): {precision_score(y_train, lr.predict(X_train))}\")\n",
    "print(f\"Precision (Teste): {precision_score(y_test, lr.predict(X_test))}\")\n",
    "print(\"====================================\")\n",
    "print(f\"Recall (Treino): {recall_score(y_train, lr.predict(X_train))}\")\n",
    "print(f\"Recall (Teste): {recall_score(y_test, lr.predict(X_test))}\")\n",
    "print(\"====================================\")\n",
    "print(f\"F1-Score (Treino): {f1_score(y_train, lr.predict(X_train))}\")\n",
    "print(f\"F1-Score (Teste): {f1_score(y_test, lr.predict(X_test))}\")\n",
    "print(\"====================================\")\n",
    "print(f\"ROCAUC (Treino): {roc_auc_score(y_train, lr.predict_proba(X_train)[:,1])}\")\n",
    "print(f\"ROCAUC (Teste): {roc_auc_score(y_test, lr.predict_proba(X_test)[:,1])}\")"
   ]
  },
  {
   "cell_type": "code",
   "execution_count": null,
   "metadata": {
    "colab": {
     "base_uri": "https://localhost:8080/",
     "height": 334
    },
    "id": "O-2FTwkl_ufu",
    "outputId": "68314d96-e8b3-4417-fabf-723b036e693e"
   },
   "outputs": [],
   "source": [
    "from sklearn.metrics import plot_roc_curve\n",
    "\n",
    "plot_roc_curve(lr, X_test, y_test);"
   ]
  },
  {
   "cell_type": "code",
   "execution_count": null,
   "metadata": {
    "colab": {
     "base_uri": "https://localhost:8080/",
     "height": 112
    },
    "id": "gC6ffjlIn3wV",
    "outputId": "f01db609-f521-43b2-bd6a-b944bf22f417"
   },
   "outputs": [],
   "source": [
    "metricas = {\n",
    "    'model': ['Logistic Regression', 'Logistic Regression'],\n",
    "    'modo': ['treino', 'teste'],\n",
    "    'accuracy': [accuracy_score(y_train, lr.predict(X_train)), accuracy_score(y_test, lr.predict(X_test))],\n",
    "    'balanced_accuracy': [balanced_accuracy_score(y_train, lr.predict(X_train)), balanced_accuracy_score(y_test, lr.predict(X_test))],\n",
    "    'precision': [precision_score(y_train, lr.predict(X_train)), precision_score(y_test, lr.predict(X_test))],\n",
    "    'recall': [recall_score(y_train, lr.predict(X_train)), recall_score(y_test, lr.predict(X_test))],\n",
    "    'f1_score': [f1_score(y_train, lr.predict(X_train)), f1_score(y_test, lr.predict(X_test))],\n",
    "    'rocauc': [roc_auc_score(y_train, lr.predict_proba(X_train)[:,1]), roc_auc_score(y_test, lr.predict_proba(X_test)[:,1])]\n",
    "\n",
    "}\n",
    "\n",
    "pd.DataFrame(metricas)"
   ]
  }
 ],
 "metadata": {
  "colab": {
   "collapsed_sections": [],
   "provenance": []
  },
  "kernelspec": {
   "display_name": "Python 3 (ipykernel)",
   "language": "python",
   "name": "python3"
  },
  "language_info": {
   "codemirror_mode": {
    "name": "ipython",
    "version": 3
   },
   "file_extension": ".py",
   "mimetype": "text/x-python",
   "name": "python",
   "nbconvert_exporter": "python",
   "pygments_lexer": "ipython3",
   "version": "3.9.13"
  }
 },
 "nbformat": 4,
 "nbformat_minor": 1
}
