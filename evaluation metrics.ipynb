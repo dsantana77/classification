{
 "cells": [
  {
   "cell_type": "markdown",
   "id": "80cc3cc1",
   "metadata": {},
   "source": [
    "# Evaluation metrics - Classification\n",
    "\n",
    "### Types:\n",
    "\n",
    "\n",
    " - accuracy, balanced accuracy\n",
    " - recall\n",
    " - precision\n",
    " - f1-Score\n",
    " - specificity\n",
    " - area under ROC\n"
   ]
  },
  {
   "cell_type": "code",
   "execution_count": null,
   "id": "2aa8b70d",
   "metadata": {},
   "outputs": [],
   "source": []
  }
 ],
 "metadata": {
  "kernelspec": {
   "display_name": "Python 3 (ipykernel)",
   "language": "python",
   "name": "python3"
  },
  "language_info": {
   "codemirror_mode": {
    "name": "ipython",
    "version": 3
   },
   "file_extension": ".py",
   "mimetype": "text/x-python",
   "name": "python",
   "nbconvert_exporter": "python",
   "pygments_lexer": "ipython3",
   "version": "3.9.13"
  }
 },
 "nbformat": 4,
 "nbformat_minor": 5
}
